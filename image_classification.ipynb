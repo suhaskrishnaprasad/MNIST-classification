{
  "nbformat": 4,
  "nbformat_minor": 0,
  "metadata": {
    "colab": {
      "provenance": []
    },
    "kernelspec": {
      "name": "python3",
      "display_name": "Python 3"
    },
    "language_info": {
      "name": "python"
    }
  },
  "cells": [
    {
      "cell_type": "code",
      "execution_count": null,
      "metadata": {
        "id": "uYwHqrwz4wph"
      },
      "outputs": [],
      "source": [
        "import cv2\n",
        "import matplotlib.pyplot as plt\n",
        "import numpy as np\n",
        "import numpy as np # advanced math library\n",
        "import matplotlib.pyplot as plt # MATLAB like plotting routines\n",
        "import random # for generating random numbers\n",
        "import tensorflow as tf\n",
        "from keras.datasets import mnist # MNIST dataset is included in Keras\n",
        "from keras.models import Sequential # Model type to be used\n",
        "from keras import models\n",
        "from keras.layers.core import Dense, Dropout, Activation # Types of layers to be used in our model\n",
        "from keras.utils import np_utils # NumPy related tools\n",
        "from keras.preprocessing.image import ImageDataGenerator\n",
        "from keras.layers import Conv2D, MaxPooling2D, ZeroPadding2D, GlobalAveragePooling2D, Flatten\n",
        "from keras.layers import BatchNormalization"
      ]
    },
    {
      "cell_type": "code",
      "source": [
        "(X_train, y_train), (X_test, y_test) = mnist.load_data()"
      ],
      "metadata": {
        "id": "unyNLZwT42Ul"
      },
      "execution_count": null,
      "outputs": []
    },
    {
      "cell_type": "code",
      "source": [
        "X_train = X_train.reshape(60000, 28, 28, 1) #add an additional dimension to represent the single-channel\n",
        "X_test = X_test.reshape(10000, 28, 28, 1)\n",
        "X_train = X_train.astype('float32') # change integers to 32-bit floating point numbers\n",
        "X_test = X_test.astype('float32')\n",
        "X_train /= 255 # normalize each value for each pixel for the entire vector for each input\n",
        "X_test /= 255\n",
        "print(\"Training matrix shape\", X_train.shape)\n",
        "print(\"Testing matrix shape\", X_test.shape)"
      ],
      "metadata": {
        "id": "5sVU6oe9482c"
      },
      "execution_count": null,
      "outputs": []
    },
    {
      "cell_type": "code",
      "source": [
        "# one-hot format classes\n",
        "nb_classes = 10 # number of unique digits\n",
        "Training matrix shape (60000, 28, 28, 1)\n",
        "Testing matrix shape (10000, 28, 28, 1)\n",
        "Y_train = np_utils.to_categorical(y_train, nb_classes)\n",
        "Y_test = np_utils.to_categorical(y_test, nb_classes)"
      ],
      "metadata": {
        "id": "7hLoIjEh5BPk"
      },
      "execution_count": null,
      "outputs": []
    },
    {
      "cell_type": "code",
      "source": [
        "model = Sequential() # Linear stacking of layers\n",
        "# Convolution Layer 1\n",
        "model.add(Conv2D(32, (3, 3), input_shape=(28,28,1))) # 32 different 3x3 kernels -- so 32 feature maps\n",
        "model.add(BatchNormalization(axis=-1)) # normalize each feature map before activation\n",
        "convLayer01 = Activation('relu') # activation\n",
        "model.add(convLayer01)\n",
        "# Convolution Layer 2\n",
        "model.add(Conv2D(32, (3, 3))) # 32 different 3x3 kernels -- so 32 feature maps\n",
        "model.add(BatchNormalization(axis=-1)) # normalize each feature map before activation\n",
        "model.add(Activation('relu')) # activation\n",
        "convLayer02 = MaxPooling2D(pool_size=(2,2)) # Pool the max values over a 2x2 kernel\n",
        "model.add(convLayer02)\n",
        "# Convolution Layer 3\n",
        "model.add(Conv2D(64,(3, 3))) # 64 different 3x3 kernels -- so 64 feature maps\n",
        "model.add(BatchNormalization(axis=-1)) # normalize each feature map before activation\n",
        "convLayer03 = Activation('relu') # activation\n",
        "model.add(convLayer03)\n",
        "# Convolution Layer 4\n",
        "model.add(Conv2D(64, (3, 3))) # 64 different 3x3 kernels -- so 64 feature maps\n",
        "model.add(BatchNormalization(axis=-1)) # normalize each feature map before activation\n",
        "model.add(Activation('relu')) # activation\n",
        "convLayer04 = MaxPooling2D(pool_size=(2,2)) # Pool the max values over a 2x2 kernel\n",
        "model.add(convLayer04)\n",
        "model.add(Flatten()) # Flatten final 4x4x64 output matrix into a 1024-length vector\n",
        "# Fully Connected Layer 5\n",
        "model.add(Dense(512)) # 512 FCN nodes\n",
        "model.add(BatchNormalization()) # normalization\n",
        "model.add(Activation('relu')) # activation\n",
        "# Fully Connected Layer 6\n",
        "model.add(Dropout(0.2)) # 20% dropout of randomly selected nodes\n",
        "model.add(Dense(10)) # final 10 FCN nodes\n",
        "model.add(Activation('softmax')) # softmax activation\n",
        "model.summary()\n"
      ],
      "metadata": {
        "id": "Xh1TUsVs5HRE"
      },
      "execution_count": null,
      "outputs": []
    },
    {
      "cell_type": "code",
      "source": [
        "model.compile(loss='categorical_crossentropy', optimizer='adam', metrics=['accuracy'])"
      ],
      "metadata": {
        "id": "ykSi-6Rc5LnD"
      },
      "execution_count": null,
      "outputs": []
    },
    {
      "cell_type": "code",
      "source": [
        "gen = ImageDataGenerator(rotation_range=8, width_shift_range=0.08, shear_range=0.3,height_shift_range=0.08, zoom_range=0.08)\n",
        "test_gen = ImageDataGenerator()\n"
      ],
      "metadata": {
        "id": "MI9faIV85ToN"
      },
      "execution_count": null,
      "outputs": []
    },
    {
      "cell_type": "code",
      "source": [
        "train_generator = gen.flow(X_train, Y_train, batch_size=128)\n",
        "test_generator = test_gen.flow(X_test, Y_test, batch_size=128)"
      ],
      "metadata": {
        "id": "BArFk3vT5Ywo"
      },
      "execution_count": null,
      "outputs": []
    },
    {
      "cell_type": "code",
      "source": [
        "model.fit_generator(train_generator, steps_per_epoch=60000//128, epochs=15, verbose=1,\n",
        " validation_data=test_generator, validation_steps=10000//128)\n",
        "model.save_weights('mnist_cnn_weights.h5')\n",
        "model.load_weights('mnist_cnn_weights.h5')\n"
      ],
      "metadata": {
        "id": "pXGs_a645dYf"
      },
      "execution_count": null,
      "outputs": []
    },
    {
      "cell_type": "markdown",
      "source": [
        "## Generate a random image"
      ],
      "metadata": {
        "id": "e7W2-NSC5h3r"
      }
    },
    {
      "cell_type": "code",
      "source": [
        "from keras.preprocessing import image\n",
        "import numpy as np\n",
        "from keras.utils import img_to_array, load_img, array_to_img"
      ],
      "metadata": {
        "id": "epGfS6bx5fpi"
      },
      "execution_count": null,
      "outputs": []
    },
    {
      "cell_type": "code",
      "source": [
        "img_path = 'image path' # path to your input image\n",
        "img = load_img(img_path, target_size=(28,28), color_mode='grayscale')\n",
        "img_tensor = img_to_array(img)\n",
        "img_tensor /= 255.\n",
        "img_tensor = np.expand_dims(img_tensor, axis=0)"
      ],
      "metadata": {
        "id": "oe5Fe6QN5lu3"
      },
      "execution_count": null,
      "outputs": []
    },
    {
      "cell_type": "code",
      "source": [
        "# Define a list of layer names to visualize\n",
        "layer_names = []\n",
        "for layer in model.layers[:15]:\n",
        " layer_names.append(layer.name)"
      ],
      "metadata": {
        "id": "FZx90Ars5o7A"
      },
      "execution_count": null,
      "outputs": []
    },
    {
      "cell_type": "code",
      "source": [
        "# Create a model that returns the activations for the named layers\n",
        "layer_outputs = [layer.output for layer in model.layers]\n",
        "activation_model = models.Model(inputs=model.input, outputs=layer_outputs)"
      ],
      "metadata": {
        "id": "SsKXJP-f5q5v"
      },
      "execution_count": null,
      "outputs": []
    },
    {
      "cell_type": "code",
      "source": [
        "# Get the activations for the input image\n",
        "activations = activation_model.predict(img_tensor)"
      ],
      "metadata": {
        "id": "1IoTZGm95tc2"
      },
      "execution_count": null,
      "outputs": []
    },
    {
      "cell_type": "code",
      "source": [
        "# Visualize the activations\n",
        "import matplotlib.pyplot as plt\n",
        "for layer_name, layer_activation in zip(layer_names, activations):\n",
        " n_features = layer_activation.shape[-1]\n",
        " size = layer_activation.shape[1]\n",
        " n_cols = n_features // 16\n",
        " if layer_activation.ndim == 2:\n",
        " display_grid = layer_activation\n",
        " elif layer_activation.ndim == 4:\n",
        " display_grid = np.zeros((size * n_cols, 16 * size))\n",
        " for col in range(n_cols):\n",
        " for row in range(16):\n",
        " channel_image = layer_activation[0, :, :, col * 16 + row]\n",
        " channel_image -= channel_image.mean()\n",
        " channel_image /= channel_image.std()\n",
        " channel_image *= 64\n",
        " channel_image += 128\n",
        " channel_image = np.clip(channel_image, 0, 255).astype('uint8')\n",
        " display_grid[col * size : (col + 1) * size, row * size : (row + 1) * size] = channel_image\n",
        " scale = 1. / size\n",
        " plt.figure(figsize=(scale * display_grid.shape[1], scale * display_grid.shape[0]))\n",
        " plt.title(layer_name)\n",
        " plt.grid(False)\n",
        " plt.imshow(display_grid, aspect='auto', cmap='viridis')\n",
        " #plt.savefig(f\"{layer_name}.png\")\n",
        "plt.show()\n",
        "\n",
        "\n",
        "\n"
      ],
      "metadata": {
        "id": "e2xutI4r5u--"
      },
      "execution_count": null,
      "outputs": []
    }
  ]
}